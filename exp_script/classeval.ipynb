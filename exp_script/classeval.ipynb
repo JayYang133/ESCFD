{
 "cells": [
  {
   "cell_type": "code",
   "execution_count": 17,
   "metadata": {},
   "outputs": [],
   "source": [
    "import anndata as ad\n",
    "from os import sys\n",
    "import scanpy as sc\n",
    "import numpy as np\n",
    "import pandas as pd\n",
    "import torch\n",
    "from sklearn.model_selection import train_test_split\n",
    "from sklearn.ensemble import RandomForestClassifier\n",
    "from sklearn.metrics import accuracy_score, roc_auc_score\n",
    "from scipy import stats\n",
    "import os\n",
    "\n",
    "sys.path.append('..')\n",
    "from VAE.VAE_model import VAE\n",
    "\n",
    "os.environ['CUDA_VISIBLE_DEVICES'] = '0'"
   ]
  },
  {
   "cell_type": "code",
   "execution_count": 18,
   "metadata": {},
   "outputs": [],
   "source": [
    "def load_VAE():\n",
    "    autoencoder = VAE(\n",
    "        num_genes=17789,\n",
    "        device='cuda',\n",
    "        seed=0,\n",
    "        loss_ae='mse',\n",
    "        hidden_dim=128,\n",
    "        decoder_activation='ReLU',\n",
    "    )\n",
    "    autoencoder.load_state_dict(torch.load('../data/pbmc_AE/model_seed=0_step=199999.pt'))\n",
    "    return autoencoder"
   ]
  },
  {
   "cell_type": "code",
   "execution_count": 19,
   "metadata": {},
   "outputs": [],
   "source": [
    "adata = sc.read_10x_mtx(\n",
    "    '../data/pbmc68k/data/pbmc68k/filtered_matrices_mex/hg19/',\n",
    "    var_names='gene_symbols', \n",
    "    cache=True\n",
    ")\n",
    "adata.var_names_make_unique()\n",
    "sc.pp.filter_cells(adata, min_genes=10)\n",
    "sc.pp.filter_genes(adata, min_cells=3)\n",
    "\n",
    "sc.pp.normalize_total(adata, target_sum=1e4)\n",
    "sc.pp.log1p(adata)\n",
    "\n",
    "celltype = pd.read_csv('../data/pbmc68k/data/pbmc68k/filtered_matrices_mex/68k_pbmc_barcodes_annotation.tsv', sep='\\t')[\n",
    "    'celltype'].values\n",
    "adata.obs['celltype'] = celltype"
   ]
  },
  {
   "cell_type": "code",
   "execution_count": 20,
   "metadata": {},
   "outputs": [
    {
     "name": "stdout",
     "output_type": "stream",
     "text": [
      "Class CD14+ Monocyte - Real data size: 2862, Generated data size: 1024\n",
      "Class CD19+ B - Real data size: 5908, Generated data size: 1024\n",
      "Class CD34+ - Real data size: 277, Generated data size: 277\n",
      "Class CD4+ T Helper2 - Real data size: 97, Generated data size: 97\n",
      "Class CD4+/CD25 T Reg - Real data size: 6187, Generated data size: 1024\n",
      "Class CD4+/CD45RA+/CD25- Naive T - Real data size: 1873, Generated data size: 1024\n",
      "Class CD4+/CD45RO+ Memory - Real data size: 3061, Generated data size: 1024\n",
      "Class CD56+ NK - Real data size: 8776, Generated data size: 1024\n",
      "Class CD8+ Cytotoxic T - Real data size: 20773, Generated data size: 1024\n",
      "Class CD8+/CD45RA+ Naive Cytotoxic - Real data size: 16666, Generated data size: 1024\n",
      "Class Dendritic - Real data size: 2099, Generated data size: 1024\n"
     ]
    }
   ],
   "source": [
    "cato = ['CD14+ Monocyte', 'CD19+ B', 'CD34+', 'CD4+ T Helper2', 'CD4+/CD25 T Reg',\n",
    "        'CD4+/CD45RA+/CD25- Naive T', 'CD4+/CD45RO+ Memory', 'CD56+ NK',\n",
    "        'CD8+ Cytotoxic T', 'CD8+/CD45RA+ Naive Cytotoxic', 'Dendritic']\n",
    "index2 = [0, 1, 2, 3, 4, 5, 6, 7, 8, 9, 10]\n",
    "\n",
    "cell_gen_all = []\n",
    "gen_class = []\n",
    "for i in index2:\n",
    "    npzfile = np.load(f'../samples/pbmc/label/l1/pbmc{i}.npz', allow_pickle=True)\n",
    "    length = min(adata[adata.obs['celltype'] == cato[i]].X.shape[0], npzfile['samples'].shape[0])\n",
    "    print(\n",
    "        f\"Class {cato[i]} - Real data size: {adata[adata.obs['celltype'] == cato[i]].X.shape[0]}, Generated data size: {length}\")\n",
    "\n",
    "    cell_gen_all.append(npzfile['samples'][:int(length)])\n",
    "    gen_class += [f'gen {cato[i]}'] * int(length)\n",
    "\n",
    "cell_gen_all = np.concatenate(cell_gen_all, axis=0)\n"
   ]
  },
  {
   "cell_type": "code",
   "execution_count": 21,
   "metadata": {},
   "outputs": [
    {
     "name": "stderr",
     "output_type": "stream",
     "text": [
      "d:\\pythonProject\\anaconda\\lib\\site-packages\\anndata\\_core\\anndata.py:402: FutureWarning: The dtype argument is deprecated and will be removed in late 2024.\n",
      "  warnings.warn(\n"
     ]
    },
    {
     "name": "stdout",
     "output_type": "stream",
     "text": [
      "\n",
      "Evaluating cell type: CD14+ Monocyte\n"
     ]
    },
    {
     "name": "stderr",
     "output_type": "stream",
     "text": [
      "d:\\pythonProject\\anaconda\\lib\\site-packages\\anndata\\_core\\anndata.py:402: FutureWarning: The dtype argument is deprecated and will be removed in late 2024.\n",
      "  warnings.warn(\n"
     ]
    },
    {
     "name": "stdout",
     "output_type": "stream",
     "text": [
      "AUC for CD14+ Monocyte: 0.8583333333333332\n",
      "\n",
      "Evaluating cell type: CD19+ B\n"
     ]
    },
    {
     "name": "stderr",
     "output_type": "stream",
     "text": [
      "d:\\pythonProject\\anaconda\\lib\\site-packages\\anndata\\_core\\anndata.py:402: FutureWarning: The dtype argument is deprecated and will be removed in late 2024.\n",
      "  warnings.warn(\n"
     ]
    },
    {
     "name": "stdout",
     "output_type": "stream",
     "text": [
      "AUC for CD19+ B: 0.7467967267933506\n",
      "\n",
      "Evaluating cell type: CD34+\n"
     ]
    },
    {
     "name": "stderr",
     "output_type": "stream",
     "text": [
      "d:\\pythonProject\\anaconda\\lib\\site-packages\\anndata\\_core\\anndata.py:402: FutureWarning: The dtype argument is deprecated and will be removed in late 2024.\n",
      "  warnings.warn(\n"
     ]
    },
    {
     "name": "stdout",
     "output_type": "stream",
     "text": [
      "AUC for CD34+: 0.7304166666666666\n",
      "\n",
      "Evaluating cell type: CD4+ T Helper2\n"
     ]
    },
    {
     "name": "stderr",
     "output_type": "stream",
     "text": [
      "d:\\pythonProject\\anaconda\\lib\\site-packages\\anndata\\_core\\anndata.py:402: FutureWarning: The dtype argument is deprecated and will be removed in late 2024.\n",
      "  warnings.warn(\n"
     ]
    },
    {
     "name": "stdout",
     "output_type": "stream",
     "text": [
      "AUC for CD4+ T Helper2: 0.5777591973244147\n",
      "\n",
      "Evaluating cell type: CD4+/CD25 T Reg\n"
     ]
    },
    {
     "name": "stderr",
     "output_type": "stream",
     "text": [
      "d:\\pythonProject\\anaconda\\lib\\site-packages\\anndata\\_core\\anndata.py:402: FutureWarning: The dtype argument is deprecated and will be removed in late 2024.\n",
      "  warnings.warn(\n"
     ]
    },
    {
     "name": "stdout",
     "output_type": "stream",
     "text": [
      "AUC for CD4+/CD25 T Reg: 0.5543501451869737\n",
      "\n",
      "Evaluating cell type: CD4+/CD45RA+/CD25- Naive T\n"
     ]
    },
    {
     "name": "stderr",
     "output_type": "stream",
     "text": [
      "d:\\pythonProject\\anaconda\\lib\\site-packages\\anndata\\_core\\anndata.py:402: FutureWarning: The dtype argument is deprecated and will be removed in late 2024.\n",
      "  warnings.warn(\n"
     ]
    },
    {
     "name": "stdout",
     "output_type": "stream",
     "text": [
      "AUC for CD4+/CD45RA+/CD25- Naive T: 0.5344770744572936\n",
      "\n",
      "Evaluating cell type: CD4+/CD45RO+ Memory\n"
     ]
    },
    {
     "name": "stderr",
     "output_type": "stream",
     "text": [
      "d:\\pythonProject\\anaconda\\lib\\site-packages\\anndata\\_core\\anndata.py:402: FutureWarning: The dtype argument is deprecated and will be removed in late 2024.\n",
      "  warnings.warn(\n"
     ]
    },
    {
     "name": "stdout",
     "output_type": "stream",
     "text": [
      "AUC for CD4+/CD45RO+ Memory: 0.508309690091663\n",
      "\n",
      "Evaluating cell type: CD56+ NK\n"
     ]
    },
    {
     "name": "stderr",
     "output_type": "stream",
     "text": [
      "d:\\pythonProject\\anaconda\\lib\\site-packages\\anndata\\_core\\anndata.py:402: FutureWarning: The dtype argument is deprecated and will be removed in late 2024.\n",
      "  warnings.warn(\n"
     ]
    },
    {
     "name": "stdout",
     "output_type": "stream",
     "text": [
      "AUC for CD56+ NK: 0.5815156304882332\n",
      "\n",
      "Evaluating cell type: CD8+ Cytotoxic T\n"
     ]
    },
    {
     "name": "stderr",
     "output_type": "stream",
     "text": [
      "d:\\pythonProject\\anaconda\\lib\\site-packages\\anndata\\_core\\anndata.py:402: FutureWarning: The dtype argument is deprecated and will be removed in late 2024.\n",
      "  warnings.warn(\n"
     ]
    },
    {
     "name": "stdout",
     "output_type": "stream",
     "text": [
      "AUC for CD8+ Cytotoxic T: 0.5568047443293797\n",
      "\n",
      "Evaluating cell type: CD8+/CD45RA+ Naive Cytotoxic\n"
     ]
    },
    {
     "name": "stderr",
     "output_type": "stream",
     "text": [
      "d:\\pythonProject\\anaconda\\lib\\site-packages\\anndata\\_core\\anndata.py:402: FutureWarning: The dtype argument is deprecated and will be removed in late 2024.\n",
      "  warnings.warn(\n"
     ]
    },
    {
     "name": "stdout",
     "output_type": "stream",
     "text": [
      "AUC for CD8+/CD45RA+ Naive Cytotoxic: 0.5850314824847053\n",
      "\n",
      "Evaluating cell type: Dendritic\n"
     ]
    },
    {
     "name": "stderr",
     "output_type": "stream",
     "text": [
      "d:\\pythonProject\\anaconda\\lib\\site-packages\\anndata\\_core\\anndata.py:402: FutureWarning: The dtype argument is deprecated and will be removed in late 2024.\n",
      "  warnings.warn(\n"
     ]
    },
    {
     "name": "stdout",
     "output_type": "stream",
     "text": [
      "AUC for Dendritic: 0.6642091766645297\n",
      "\n",
      "Summary of AUC values for all cell types:\n",
      "CD14+ Monocyte: 0.8583\n",
      "CD19+ B: 0.7468\n",
      "CD34+: 0.7304\n",
      "CD4+ T Helper2: 0.5778\n",
      "CD4+/CD25 T Reg: 0.5544\n",
      "CD4+/CD45RA+/CD25- Naive T: 0.5345\n",
      "CD4+/CD45RO+ Memory: 0.5083\n",
      "CD56+ NK: 0.5815\n",
      "CD8+ Cytotoxic T: 0.5568\n",
      "CD8+/CD45RA+ Naive Cytotoxic: 0.5850\n",
      "Dendritic: 0.6642\n"
     ]
    }
   ],
   "source": [
    "autoencoder = load_VAE()\n",
    "cell_gen_all = autoencoder(torch.tensor(cell_gen_all).cuda(), return_decoded=True).cpu().detach().numpy()\n",
    "\n",
    "gen_adata = ad.AnnData(cell_gen_all, dtype=np.float32)\n",
    "gen_adata.obs['celltype'] = gen_class\n",
    "\n",
    "auc_values = []\n",
    "\n",
    "for cell_type in cato:\n",
    "    print(f\"\\nEvaluating cell type: {cell_type}\")\n",
    "\n",
    "    real_data = adata[adata.obs['celltype'] == cell_type].X.toarray()\n",
    "    gen_data = gen_adata[gen_adata.obs['celltype'] == f'gen {cell_type}'].X\n",
    "\n",
    "    if real_data.shape[0] == 0 or gen_data.shape[0] == 0:\n",
    "        print(f\"No data for cell type {cell_type}. Skipping evaluation.\")\n",
    "        continue\n",
    "\n",
    "    combined_data = np.concatenate((real_data, gen_data), axis=0)\n",
    "    combined_labels = np.concatenate((np.ones(real_data.shape[0]), np.zeros(gen_data.shape[0])))\n",
    "\n",
    "\n",
    "    combined_adata = ad.AnnData(combined_data, dtype=np.float32)\n",
    "    sc.tl.pca(combined_adata, n_comps=2, svd_solver='arpack')\n",
    "    pca_data = combined_adata.obsm['X_pca']\n",
    "\n",
    "\n",
    "    X_train, X_val, y_train, y_val = train_test_split(pca_data, combined_labels, test_size=0.25, random_state=1)\n",
    "\n",
    "    rfc = RandomForestClassifier(n_estimators=1000, max_depth=5, oob_score=True, class_weight=\"balanced\",\n",
    "                                 random_state=1)\n",
    "    rfc.fit(X_train, y_train)\n",
    "\n",
    "    y_pred_train = rfc.predict(X_train)\n",
    "    y_pred_val = rfc.predict(X_val)\n",
    "\n",
    "    auc = roc_auc_score(y_val, y_pred_val)\n",
    "    auc_values.append((cell_type, auc))\n",
    "    print(f\"AUC for {cell_type}: {auc}\")\n",
    "\n",
    "print(\"\\nSummary of AUC values for all cell types:\")\n",
    "for cell_type, auc in auc_values:\n",
    "    print(f\"{cell_type}: {auc:.4f}\")"
   ]
  }
 ],
 "metadata": {
  "kernelspec": {
   "display_name": "Python 3",
   "language": "python",
   "name": "python3"
  },
  "language_info": {
   "codemirror_mode": {
    "name": "ipython",
    "version": 3
   },
   "file_extension": ".py",
   "mimetype": "text/x-python",
   "name": "python",
   "nbconvert_exporter": "python",
   "pygments_lexer": "ipython3",
   "version": "3.9.0"
  }
 },
 "nbformat": 4,
 "nbformat_minor": 2
}
