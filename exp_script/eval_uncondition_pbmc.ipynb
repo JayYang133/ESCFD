{
 "cells": [
  {
   "cell_type": "code",
   "execution_count": 1,
   "metadata": {},
   "outputs": [
    {
     "name": "stderr",
     "output_type": "stream",
     "text": [
      "/home/yjh/anaconda3/envs/scld/lib/python3.10/site-packages/tqdm/auto.py:21: TqdmWarning: IProgress not found. Please update jupyter and ipywidgets. See https://ipywidgets.readthedocs.io/en/stable/user_install.html\n",
      "  from .autonotebook import tqdm as notebook_tqdm\n",
      "/home/yjh/anaconda3/envs/scld/lib/python3.10/site-packages/anndata/utils.py:429: FutureWarning: Importing read_csv from `anndata` is deprecated. Import anndata.io.read_csv instead.\n",
      "  warnings.warn(msg, FutureWarning)\n",
      "/home/yjh/anaconda3/envs/scld/lib/python3.10/site-packages/anndata/utils.py:429: FutureWarning: Importing read_excel from `anndata` is deprecated. Import anndata.io.read_excel instead.\n",
      "  warnings.warn(msg, FutureWarning)\n",
      "/home/yjh/anaconda3/envs/scld/lib/python3.10/site-packages/anndata/utils.py:429: FutureWarning: Importing read_hdf from `anndata` is deprecated. Import anndata.io.read_hdf instead.\n",
      "  warnings.warn(msg, FutureWarning)\n",
      "/home/yjh/anaconda3/envs/scld/lib/python3.10/site-packages/anndata/utils.py:429: FutureWarning: Importing read_loom from `anndata` is deprecated. Import anndata.io.read_loom instead.\n",
      "  warnings.warn(msg, FutureWarning)\n",
      "/home/yjh/anaconda3/envs/scld/lib/python3.10/site-packages/anndata/utils.py:429: FutureWarning: Importing read_mtx from `anndata` is deprecated. Import anndata.io.read_mtx instead.\n",
      "  warnings.warn(msg, FutureWarning)\n",
      "/home/yjh/anaconda3/envs/scld/lib/python3.10/site-packages/anndata/utils.py:429: FutureWarning: Importing read_text from `anndata` is deprecated. Import anndata.io.read_text instead.\n",
      "  warnings.warn(msg, FutureWarning)\n",
      "/home/yjh/anaconda3/envs/scld/lib/python3.10/site-packages/anndata/utils.py:429: FutureWarning: Importing read_umi_tools from `anndata` is deprecated. Import anndata.io.read_umi_tools instead.\n",
      "  warnings.warn(msg, FutureWarning)\n"
     ]
    }
   ],
   "source": [
    "import anndata as ad\n",
    "import scanpy as sc\n",
    "import matplotlib.pyplot as plt\n",
    "import numpy as np\n",
    "import os\n",
    "\n",
    "os.environ['CUDA_VISIBLE_DEVICES'] = '0'\n",
    "import pandas as pd\n",
    "from scipy import stats\n",
    "import torch\n",
    "from os import sys\n",
    "sys.path.append('..')\n",
    "from VAE.VAE_model import VAE\n",
    "from torch.autograd import Variable\n",
    "from tqdm import tqdm\n"
   ]
  },
  {
   "cell_type": "code",
   "execution_count": 2,
   "metadata": {},
   "outputs": [],
   "source": [
    "def gaussian_kernel(X, Y, sigma=1.0):\n",
    "\n",
    "    XX = np.sum(X ** 2, axis=1, keepdims=True)\n",
    "    YY = np.sum(Y ** 2, axis=1, keepdims=True)\n",
    "    XY = np.dot(X, Y.T)\n",
    "    dist = XX + YY.T - 2 * XY\n",
    "    return np.exp(-dist / (2 * sigma ** 2))\n",
    "\n",
    "\n",
    "def compute_mmd(X, Y, sigma=1.0):\n",
    "\n",
    "    n = X.shape[0]\n",
    "    m = Y.shape[0]\n",
    "\n",
    "    K_XX = gaussian_kernel(X, X, sigma)\n",
    "    K_YY = gaussian_kernel(Y, Y, sigma)\n",
    "    K_XY = gaussian_kernel(X, Y, sigma)\n",
    "\n",
    "    mmd_squared = (np.sum(K_XX) / (n * n) + np.sum(K_YY) / (m * m) - 2 * np.sum(K_XY) / (n * m))\n",
    "    return np.sqrt(mmd_squared)\n",
    "\n",
    "def load_VAE():\n",
    "    autoencoder = VAE(\n",
    "        num_genes=17789,\n",
    "        device='cuda',\n",
    "        seed=0,\n",
    "        loss_ae='mse',\n",
    "        hidden_dim=128,\n",
    "        decoder_activation='ReLU',\n",
    "    )\n",
    "    autoencoder.load_state_dict(torch.load('../data/pbmc_AE/model_seed=0_step=199999.pt'))\n",
    "    return autoencoder"
   ]
  },
  {
   "cell_type": "code",
   "execution_count": 3,
   "metadata": {},
   "outputs": [
    {
     "name": "stdout",
     "output_type": "stream",
     "text": [
      "AnnData object with n_obs × n_vars = 68579 × 17789\n",
      "    obs: 'n_genes'\n",
      "    var: 'gene_ids', 'n_cells'\n"
     ]
    }
   ],
   "source": [
    "adata = sc.read_10x_mtx(\n",
    "    '../data/pbmc68k/data/pbmc68k/filtered_matrices_mex/hg19/',  # the directory with the `.mtx` file\n",
    "    var_names='gene_symbols',                # use gene symbols for the variable names (variables-axis index)\n",
    "    cache=True)\n",
    "adata.var_names_make_unique()\n",
    "sc.pp.filter_cells(adata, min_genes=10)\n",
    "sc.pp.filter_genes(adata, min_cells=3)\n",
    "gene_names = adata.var_names\n",
    "print(adata)\n",
    "sc.pp.normalize_total(adata, target_sum=1e4)\n",
    "sc.pp.log1p(adata)\n",
    "################\n",
    "celltype = pd.read_csv('../data/pbmc68k/data/pbmc68k/filtered_matrices_mex/68k_pbmc_barcodes_annotation.tsv', sep='\\t')['celltype'].values\n",
    "adata.obs['celltype'] = celltype\n",
    "#########\n",
    "cell_data = adata.X.toarray()[::5]\n",
    "#generation\n",
    "npzfile=np.load('../samples/pbmc/unconditional/pbmc.npz',allow_pickle=True)\n",
    "\n",
    "cell_gen_all = npzfile['samples'][:10000]"
   ]
  },
  {
   "cell_type": "code",
   "execution_count": 4,
   "metadata": {},
   "outputs": [
    {
     "name": "stderr",
     "output_type": "stream",
     "text": [
      "/home/yjh/anaconda3/envs/scld/lib/python3.10/site-packages/anndata/_core/anndata.py:401: FutureWarning: The dtype argument is deprecated and will be removed in late 2024.\n",
      "  warnings.warn(\n",
      "/home/yjh/anaconda3/envs/scld/lib/python3.10/site-packages/anndata/_core/anndata.py:401: FutureWarning: The dtype argument is deprecated and will be removed in late 2024.\n",
      "  warnings.warn(\n"
     ]
    }
   ],
   "source": [
    "autoencoder = load_VAE()\n",
    "cell_gen_all = autoencoder(torch.tensor(cell_gen_all).cuda(),return_decoded=True).detach().cpu().numpy()\n",
    "ori = ad.AnnData(cell_gen_all, dtype=np.float32)\n",
    "cell_gen = ori.X\n",
    "\n",
    "adata = np.concatenate((cell_data, cell_gen),axis=0)\n",
    "adata = ad.AnnData(adata, dtype=np.float32)\n",
    "adata.obs_names = [f\"true_Cell\" for i in range(cell_data.shape[0])]+[f\"gen_Cell\" for i in range(cell_gen.shape[0])]\n",
    "\n",
    "sc.tl.pca(adata, n_comps=2, svd_solver='arpack')\n",
    "real = adata[adata.obs_names=='true_Cell'].obsm['X_pca']\n",
    "sim = adata[adata.obs_names=='gen_Cell'].obsm['X_pca']\n",
    "\n",
    "data = np.concatenate((real,sim),axis=0)\n",
    "label = np.concatenate((np.ones((real.shape[0])),np.zeros((sim.shape[0]))))"
   ]
  },
  {
   "cell_type": "code",
   "execution_count": 5,
   "metadata": {},
   "outputs": [
    {
     "name": "stdout",
     "output_type": "stream",
     "text": [
      "(17787, 2)\n",
      "auc in validation set: 0.5597464567573439\n",
      "MMD value: 0.07157810916176348\n"
     ]
    }
   ],
   "source": [
    "from sklearn.model_selection import train_test_split\n",
    "from sklearn.ensemble import RandomForestClassifier\n",
    "from sklearn.metrics import roc_auc_score\n",
    "from sklearn.metrics import *\n",
    "X_train,X_val,y_train,y_val = train_test_split(data, label,\n",
    "                                               test_size = 0.25,random_state = 1)\n",
    "print(X_train.shape)\n",
    "rfc1 = RandomForestClassifier(n_estimators = 1000,\n",
    "                              max_depth= 5,\n",
    "                              oob_score=True,\n",
    "                              class_weight = \"balanced\",\n",
    "                              random_state=1)\n",
    "rfc1.fit(X_train,y_train)\n",
    "## accuracy\n",
    "rfc1_lab = rfc1.predict(X_train)\n",
    "rfc1_pre = rfc1.predict(X_val)\n",
    "\n",
    "print(\"auc in validation set:\",roc_auc_score(y_val,rfc1_pre))\n",
    "mmd_value = compute_mmd(real, sim)\n",
    "print(\"MMD value:\", mmd_value)"
   ]
  }
 ],
 "metadata": {
  "kernelspec": {
   "display_name": "scld",
   "language": "python",
   "name": "python3"
  },
  "language_info": {
   "codemirror_mode": {
    "name": "ipython",
    "version": 3
   },
   "file_extension": ".py",
   "mimetype": "text/x-python",
   "name": "python",
   "nbconvert_exporter": "python",
   "pygments_lexer": "ipython3",
   "version": "3.10.14"
  }
 },
 "nbformat": 4,
 "nbformat_minor": 2
}
